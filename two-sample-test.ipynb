{
 "cells": [
  {
   "cell_type": "code",
   "execution_count": 36,
   "metadata": {},
   "outputs": [],
   "source": [
    "import scipy\n",
    "import matplotlib.pyplot as plt\n",
    "import numpy as np"
   ]
  },
  {
   "cell_type": "markdown",
   "metadata": {},
   "source": [
    "A study of how the distribution of bike usage differs during spring and summer. One important question to answer here is whether the distributions for these two seasons are the same or whether they differ. To answer this question, you should look into hypothesis tests that fall in the category of “two-sample tests”. You should use at least two such tests, which should be described in detail and compared (including a discussion of how any underlying assumptions differ!)."
   ]
  },
  {
   "cell_type": "code",
   "execution_count": 3,
   "metadata": {},
   "outputs": [],
   "source": [
    "from __future__ import annotations\n",
    "from BikeData import BikeData"
   ]
  },
  {
   "cell_type": "code",
   "execution_count": 4,
   "metadata": {},
   "outputs": [],
   "source": [
    "daily = BikeData(\"day.csv\")\n",
    "hourly = BikeData(\"hour.csv\")\n",
    "spring_summer = daily.subset(leq={\"season\": 2}, eq={\"holiday\": 0, \"workingday\":1})\n",
    "spring_summer_hour = hourly.subset(leq={\"season\": 2}, eq={\"holiday\": 0, \"workingday\":1})"
   ]
  },
  {
   "cell_type": "code",
   "execution_count": 5,
   "metadata": {},
   "outputs": [],
   "source": [
    "spring = daily.subset(eq={\"season\": 1})\n",
    "summer = daily.subset(eq={\"season\": 2})\n",
    "# spring = daily.subset(eq={\"season\": 1,\"holiday\": 0, \"workingday\": 1})\n",
    "# summer = daily.subset(eq={\"season\": 2, \"holiday\": 0, \"workingday\": 1})"
   ]
  },
  {
   "cell_type": "code",
   "execution_count": 59,
   "metadata": {},
   "outputs": [
    {
     "data": {
      "image/png": "[encoded data removed]",
      "text/plain": [
       "<Figure size 640x480 with 2 Axes>"
      ]
     },
     "metadata": {},
     "output_type": "display_data"
    },
    {
     "name": "stdout",
     "output_type": "stream",
     "text": [
      "[Spring] mean: 2604.1325966850827, median: 2209.0\n",
      "[Summer] mean: 4992.33152173913, median: 4941.5\n"
     ]
    }
   ],
   "source": [
    "spring_day_count = spring.data[\"cnt\"].to_numpy()\n",
    "summer_day_count = summer.data[\"cnt\"].to_numpy()\n",
    "\n",
    "fig, (ax_spring, ax_summer) = plt.subplots(1,2)\n",
    "ax_spring.hist(spring.data[\"cnt\"], bins=30, color=\"gray\")\n",
    "ax_spring.axvline(x=np.mean(spring.data[\"cnt\"]),color=\"red\")\n",
    "ax_spring.axvline(x=np.median(spring.data[\"cnt\"]),color=\"yellow\")\n",
    "\n",
    "ax_summer.hist(summer.data[\"cnt\"], bins=30, color=\"gray\")\n",
    "ax_summer.axvline(x=np.mean(summer.data[\"cnt\"]),color=\"red\")\n",
    "ax_summer.axvline(x=np.median(summer.data[\"cnt\"]),color=\"yellow\")\n",
    "plt.show()\n",
    "\n",
    "print(f\"[Spring] mean: {np.mean(spring_day_count)}, median: {np.median(spring_day_count)}\")\n",
    "print(f\"[Summer] mean: {np.mean(summer_day_count)}, median: {np.median(summer_day_count)}\")"
   ]
  },
  {
   "cell_type": "markdown",
   "metadata": {},
   "source": [
    "From the above plots, we can see that the distribution of bike usage seems to differ during spring and summer by looking at the shapes of the two histograms. The bike usage also have very different mean and median values for Spring and Summer."
   ]
  },
  {
   "cell_type": "markdown",
   "metadata": {},
   "source": [
    "**// Not sure if it makes sense to do a quick normality test here (data scope is different from question 1)**\n",
    "\n",
    "Before we made any choice on which two-sample tests to be used to check whether the two distributions are the same, we will need to understand the individual distribution of the spring and summer a bit better to see if certain assumptions of the two-sample tests do hold.\n",
    "\n",
    "First, we will test for normality on Spring and Summer data seprately using **Shapiro-Wilk test**."
   ]
  },
  {
   "cell_type": "code",
   "execution_count": 58,
   "metadata": {},
   "outputs": [
    {
     "name": "stdout",
     "output_type": "stream",
     "text": [
      "p-value from Shapiro-Wilk test on Spring's bike usage: 4.983251642443065e-07\n",
      "p-value from Shapiro-Wilk test on Summer's bike usage: 0.007908129133284092\n"
     ]
    }
   ],
   "source": [
    "from scipy.stats import shapiro\n",
    "w, p_value = shapiro(spring.data['cnt'])\n",
    "print(f\"p-value from Shapiro-Wilk test on Spring's bike usage: {p_value}\")\n",
    "w, p_value = shapiro(summer.data['cnt'])\n",
    "print(f\"p-value from Shapiro-Wilk test on Summer's bike usage: {p_value}\")"
   ]
  },
  {
   "cell_type": "markdown",
   "metadata": {},
   "source": [
    "Knowing that the p-value obtained from the Shapiro-Wilk test is smaller than 0.05 and observing the shape of the histogram visualisation, we can conclude that neither Spring or Summer bike usage is normally distributed."
   ]
  },
  {
   "cell_type": "markdown",
   "metadata": {},
   "source": [
    "## Moody's Median Test"
   ]
  },
  {
   "cell_type": "markdown",
   "metadata": {},
   "source": [
    "We chose to run the Moody's Median test because of the following reasons:\n",
    "1. The test does not require the assumption of normality\n",
    "3. It can be applied to both small and large samples. The power increases with sample size."
   ]
  },
  {
   "cell_type": "markdown",
   "metadata": {},
   "source": [
    "We define the null hypothesis as follows:\n",
    "\n",
    "$H_0$: Bike usage distributions during Spring and Summer have the same median.\n",
    "\n",
    "$H_1$: Bike usage distributions during Spring and Summer do not have the same median."
   ]
  },
  {
   "cell_type": "code",
   "execution_count": 66,
   "metadata": {},
   "outputs": [
    {
     "name": "stdout",
     "output_type": "stream",
     "text": [
      "2.3153679014005666e-28\n"
     ]
    }
   ],
   "source": [
    "from scipy.stats import median_test\n",
    "stat, p, med, tbl = median_test(spring_day_count,summer_day_count)\n",
    "print(p)"
   ]
  },
  {
   "cell_type": "markdown",
   "metadata": {},
   "source": [
    "By examinating the p-value (which is significantly small than 0.05), we can confidently reject $H_0$ and conclude that the bike usage distribution has different median during Spring and Summer."
   ]
  },
  {
   "cell_type": "markdown",
   "metadata": {},
   "source": [
    "## Mann-Whitney U Test"
   ]
  },
  {
   "cell_type": "markdown",
   "metadata": {},
   "source": [
    "We chose to run the Mann-Whitney U test because of the following reasons:\n",
    "1. The test does not require the assumption of normality\n",
    "2. The test works for distribution with different means and medians\n",
    "3. It can be applied to both small and large samples. The power increases with sample size."
   ]
  },
  {
   "cell_type": "code",
   "execution_count": null,
   "metadata": {},
   "outputs": [],
   "source": [
    "from scipy.stats import mannwhitneyu\n",
    "U_test_statistics, p_value = mannwhitneyu(spring_day_count,summer_day_count)\n",
    "print(U_test_statistics)\n",
    "print(p_value)"
   ]
  }
 ],
 "metadata": {
  "kernelspec": {
   "display_name": "Python 3.10.6 ('stat0032')",
   "language": "python",
   "name": "python3"
  },
  "language_info": {
   "codemirror_mode": {
    "name": "ipython",
    "version": 3
   },
   "file_extension": ".py",
   "mimetype": "text/x-python",
   "name": "python",
   "nbconvert_exporter": "python",
   "pygments_lexer": "ipython3",
   "version": "3.10.6"
  },
  "orig_nbformat": 4,
  "vscode": {
   "interpreter": {
    "hash": "384f23291083989325874cc1428f18894cd30b85213a1fdf24b95f6d023bde9c"
   }
  }
 },
 "nbformat": 4,
 "nbformat_minor": 2
}
